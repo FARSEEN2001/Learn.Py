{
  "nbformat": 4,
  "nbformat_minor": 0,
  "metadata": {
    "colab": {
      "name": "TASK 3.ipynb",
      "provenance": [],
      "include_colab_link": true
    },
    "kernelspec": {
      "name": "python3",
      "display_name": "Python 3"
    },
    "language_info": {
      "name": "python"
    }
  },
  "cells": [
    {
      "cell_type": "markdown",
      "metadata": {
        "id": "view-in-github",
        "colab_type": "text"
      },
      "source": [
        "<a href=\"https://colab.research.google.com/github/FARSEEN2001/Learn.Py/blob/main/TASK3.ipynb\" target=\"_parent\"><img src=\"https://colab.research.google.com/assets/colab-badge.svg\" alt=\"Open In Colab\"/></a>"
      ]
    },
    {
      "cell_type": "markdown",
      "metadata": {
        "id": "z20IIB0eUQMN"
      },
      "source": [
        "1 - Write a program which takes a number as input from the user and check whether the number is odd or even.If odd print the number is odd if not print it is even."
      ]
    },
    {
      "cell_type": "code",
      "metadata": {
        "id": "dVgGJ-wTVRit",
        "outputId": "5dc087bb-a078-4dc9-88b5-72375657071b",
        "colab": {
          "base_uri": "https://localhost:8080/"
        }
      },
      "source": [
        "#please enter your answer below this line\n",
        "x = int(input(\"Enter a Number:\"))\n",
        "if(x%2==0):\n",
        " print(x,\"is an Even Number\")\n",
        "else:\n",
        " print(x,\"is an Odd Number\")"
      ],
      "execution_count": 3,
      "outputs": [
        {
          "output_type": "stream",
          "text": [
            "Enter a Number: 666\n",
            "666 is an Even Number\n"
          ],
          "name": "stdout"
        }
      ]
    },
    {
      "cell_type": "markdown",
      "metadata": {
        "id": "7778XD8PVblj"
      },
      "source": [
        "2 -Write a program to find the largest among three numbers and print the largest number."
      ]
    },
    {
      "cell_type": "code",
      "metadata": {
        "id": "m0tUOkOFWR-d",
        "outputId": "6bc98b03-5314-4738-fe0f-0dce2b4ac9e5",
        "colab": {
          "base_uri": "https://localhost:8080/"
        }
      },
      "source": [
        "#please enter your answer below this line\n",
        "num1 = int(input(\"Enter a Number:\"))\n",
        "num2 = int(input(\"Enter a Number:\"))\n",
        "num3 = int(input(\"Enter a Number:\"))\n",
        "if(num1>=num2) and (num1>=num3):\n",
        " Largest = num1\n",
        "elif(num2>=num3) and (num2>=num1):\n",
        " Largest = num2 \n",
        "else:\n",
        " Largest = num3\n",
        "print(\"The Largest Number is\", Largest)"
      ],
      "execution_count": 6,
      "outputs": [
        {
          "output_type": "stream",
          "text": [
            "Enter a Number:20\n",
            "Enter a Number:10\n",
            "Enter a Number:5\n",
            "The Largest Number is 20\n"
          ],
          "name": "stdout"
        }
      ]
    },
    {
      "cell_type": "markdown",
      "metadata": {
        "id": "Jg2Ns4OQWaJy"
      },
      "source": [
        "3 -Write a function to prompt for a score between 0.0 and 1.0.\n",
        "\n",
        "    If the score is out of range, print an error.\n",
        "    If the score is between 0.0 and 1.0, print a grade using the following table:\n",
        "    Score Grade\n",
        "             Score\tGrade\n",
        "            >= 0.9\tA\n",
        "            >= 0.8\tB\n",
        "            >= 0.7\tC\n",
        "            >= 0.6\tD\n",
        "             < 0.6\tF\n",
        "If the user enters a value out of range, print a suitable error message and exit. For the test, enter a score of 0.85."
      ]
    },
    {
      "cell_type": "code",
      "metadata": {
        "id": "6DLbGe6XXZPx",
        "outputId": "731217cd-1a49-4de7-9cd8-244736c42982",
        "colab": {
          "base_uri": "https://localhost:8080/"
        }
      },
      "source": [
        "#please enter your answer below this line\n",
        "score = float(input(\"Enter the Score:\"))\n",
        "if(score>=0.9) and (score<=1.0):\n",
        " print(\"Grade is A\")\n",
        "elif(score>=0.8) and (score<=0.9):\n",
        " print(\"Grade is B\")\n",
        "elif(score>=0.7) and (score<=0.8):\n",
        " print(\"Grade is C\")\n",
        "elif(score>=0.6) and (score<=0.7):\n",
        " print(\"Grade is D\")\n",
        "elif(score<0.6) and (score>0.0):\n",
        " print(\"Grade is F\")\n",
        "else:\n",
        " print(\" Error Detected\")"
      ],
      "execution_count": 12,
      "outputs": [
        {
          "output_type": "stream",
          "text": [
            "Enter the Score:0.85\n",
            "Grade is B\n"
          ],
          "name": "stdout"
        }
      ]
    },
    {
      "cell_type": "markdown",
      "metadata": {
        "id": "-o0scDq7WkVT"
      },
      "source": [
        ""
      ]
    }
  ]
}