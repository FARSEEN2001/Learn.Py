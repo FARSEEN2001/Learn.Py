{
  "nbformat": 4,
  "nbformat_minor": 0,
  "metadata": {
    "colab": {
      "name": "TASK  7.ipynb",
      "provenance": [],
      "include_colab_link": true
    },
    "kernelspec": {
      "name": "python3",
      "display_name": "Python 3"
    },
    "language_info": {
      "name": "python"
    }
  },
  "cells": [
    {
      "cell_type": "markdown",
      "metadata": {
        "id": "view-in-github",
        "colab_type": "text"
      },
      "source": [
        "<a href=\"https://colab.research.google.com/github/FARSEEN2001/Learn.Py/blob/main/TASK7.ipynb\" target=\"_parent\"><img src=\"https://colab.research.google.com/assets/colab-badge.svg\" alt=\"Open In Colab\"/></a>"
      ]
    },
    {
      "cell_type": "markdown",
      "metadata": {
        "id": "b0V3vwzcydKy"
      },
      "source": [
        "1. Write a program to check whether a  string is palindrome or not using functions. \n",
        "\n",
        "   ( A function is to be created to check whether the string is palindrome and it should give the output true or false to the main program)"
      ]
    },
    {
      "cell_type": "code",
      "metadata": {
        "id": "M2Mi7EOdyxiu",
        "outputId": "07fc311e-94a5-4ed9-ed4a-ff2214fcd580",
        "colab": {
          "base_uri": "https://localhost:8080/"
        }
      },
      "source": [
        "#please enter the code below this line.\n",
        "def Palindrome(m):\n",
        "  if m==string[::-1] :\n",
        "    print(\"Palindrome\")\n",
        "  else:\n",
        "    print('Not palindrome')\n",
        " \n",
        "string=input(\"Enter a string : \")\n",
        "Palindrome(string)"
      ],
      "execution_count": 1,
      "outputs": [
        {
          "output_type": "stream",
          "text": [
            "Enter a string : Malayalam\n",
            "Not palindrome\n"
          ],
          "name": "stdout"
        }
      ]
    },
    {
      "cell_type": "markdown",
      "metadata": {
        "id": "vSiShTyOzEz-"
      },
      "source": [
        "2.  Write a menu driven program to find largest element in L, smallest element, avg of all values, sum of all values in L. All these operation should be performed in different functions and the result should be returned.\n",
        "\n",
        "\n",
        "      L=[23,24,11,90,1,41,9,99,28,56,72]"
      ]
    },
    {
      "cell_type": "code",
      "metadata": {
        "id": "fRtMIw_CzsmO",
        "outputId": "cfd03ba8-ea3a-48a7-867d-0216a296ea58",
        "colab": {
          "base_uri": "https://localhost:8080/"
        }
      },
      "source": [
        "#please enter the code below this line.\n",
        "L =  [23,24,11,90,1,41,9,99,28,56,72]\n",
        "choice = int(input(\"Enter your choice\"))\n",
        " \n",
        "def smallest(L): \n",
        "    L.sort()\n",
        "    smallest_number = L[0]\n",
        "    print(smallest_number)\n",
        "    \n",
        "def largest(L):\n",
        "    L.sort()\n",
        "    largest_number = L[len(L) - 1]\n",
        "    print(largest_number)\n",
        "    \n",
        "def totalsum(L):\n",
        "    total = sum(L)\n",
        "    print(total)\n",
        "    \n",
        "def average(L):\n",
        "    average = sum(L)/len(L)\n",
        "    print(average)\n",
        "    \n",
        " \n",
        "if choice == 1:\n",
        "    smallest(L)\n",
        "elif choice == 2:\n",
        "    largest(L)\n",
        "elif choice == 3:\n",
        "    average(L)\n",
        "elif choice == 4:\n",
        "    totalsum(L)\n",
        "else:\n",
        "    print(\"wrong choice\")"
      ],
      "execution_count": 3,
      "outputs": [
        {
          "output_type": "stream",
          "text": [
            "Enter your choice4\n",
            "454\n"
          ],
          "name": "stdout"
        }
      ]
    }
  ]
}